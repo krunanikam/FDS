{
 "cells": [
  {
   "cell_type": "markdown",
   "id": "e190232c",
   "metadata": {},
   "source": [
    "### 1D array operations "
   ]
  },
  {
   "cell_type": "markdown",
   "id": "f5c20834",
   "metadata": {},
   "source": [
    "#### Create"
   ]
  },
  {
   "cell_type": "code",
   "execution_count": 7,
   "id": "9346e8dd",
   "metadata": {},
   "outputs": [
    {
     "name": "stdout",
     "output_type": "stream",
     "text": [
      "Created Array: [1 2 3 4 5]\n"
     ]
    }
   ],
   "source": [
    "import numpy as np\n",
    "\n",
    "arr = np.array([1, 2, 3, 4, 5])\n",
    "print(\"Created Array:\", arr)"
   ]
  },
  {
   "cell_type": "markdown",
   "id": "c35fda80",
   "metadata": {},
   "source": [
    "#### Insert"
   ]
  },
  {
   "cell_type": "code",
   "execution_count": 8,
   "id": "9431ae59",
   "metadata": {},
   "outputs": [
    {
     "name": "stdout",
     "output_type": "stream",
     "text": [
      "Array after insertion: [ 1  2 10  3  4  5]\n"
     ]
    }
   ],
   "source": [
    "arr = np.insert(arr, 2, 10)\n",
    "print(\"Array after insertion:\", arr)"
   ]
  },
  {
   "cell_type": "markdown",
   "id": "47be56c4",
   "metadata": {},
   "source": [
    " #### Update"
   ]
  },
  {
   "cell_type": "code",
   "execution_count": 9,
   "id": "16b588aa",
   "metadata": {},
   "outputs": [
    {
     "name": "stdout",
     "output_type": "stream",
     "text": [
      "Array after update: [ 1 20 10  3  4  5]\n"
     ]
    }
   ],
   "source": [
    "arr[1] = 20\n",
    "print(\"Array after update:\", arr)"
   ]
  },
  {
   "cell_type": "markdown",
   "id": "db8ed850",
   "metadata": {},
   "source": [
    "####  Iterate"
   ]
  },
  {
   "cell_type": "code",
   "execution_count": 10,
   "id": "4a32f78b",
   "metadata": {},
   "outputs": [
    {
     "name": "stdout",
     "output_type": "stream",
     "text": [
      "Iterating through the array:\n",
      "1\n",
      "20\n",
      "10\n",
      "3\n",
      "4\n",
      "5\n"
     ]
    }
   ],
   "source": [
    "print(\"Iterating through the array:\")\n",
    "for element in arr:\n",
    "    print(element)"
   ]
  },
  {
   "cell_type": "markdown",
   "id": "a5731f03",
   "metadata": {},
   "source": [
    "#### Delete"
   ]
  },
  {
   "cell_type": "code",
   "execution_count": 11,
   "id": "89b51e8a",
   "metadata": {},
   "outputs": [
    {
     "name": "stdout",
     "output_type": "stream",
     "text": [
      "Array after deletion: [ 1 20 10  4  5]\n"
     ]
    }
   ],
   "source": [
    "arr = np.delete(arr, 3)\n",
    "print(\"Array after deletion:\", arr)"
   ]
  },
  {
   "cell_type": "markdown",
   "id": "b7a1ff75",
   "metadata": {},
   "source": [
    "#### Search"
   ]
  },
  {
   "cell_type": "code",
   "execution_count": 12,
   "id": "d2e25c4f",
   "metadata": {},
   "outputs": [
    {
     "name": "stdout",
     "output_type": "stream",
     "text": [
      "Element 20 found at index 1\n"
     ]
    }
   ],
   "source": [
    "element_to_search = 20\n",
    "index = np.where(arr == element_to_search)[0]\n",
    "if len(index) > 0:\n",
    "    print(f\"Element {element_to_search} found at index {index[0]}\")\n",
    "else:\n",
    "    print(f\"Element {element_to_search} not found in the array\")"
   ]
  },
  {
   "cell_type": "markdown",
   "id": "523a10d9",
   "metadata": {},
   "source": [
    "#### Count "
   ]
  },
  {
   "cell_type": "code",
   "execution_count": 13,
   "id": "f4be035c",
   "metadata": {},
   "outputs": [
    {
     "name": "stdout",
     "output_type": "stream",
     "text": [
      "Count of 20 in the array: 1\n"
     ]
    }
   ],
   "source": [
    "element_to_count = 20\n",
    "count = np.count_nonzero(arr == element_to_count)\n",
    "print(f\"Count of {element_to_count} in the array: {count}\")"
   ]
  },
  {
   "cell_type": "code",
   "execution_count": 14,
   "id": "06b32502",
   "metadata": {},
   "outputs": [
    {
     "name": "stdout",
     "output_type": "stream",
     "text": [
      "There is the 5 number of element present in array\n"
     ]
    }
   ],
   "source": [
    "count=0\n",
    "for elements in arr:\n",
    "    count=count+1\n",
    "print(f\"There is the {count} number of element present in array\")"
   ]
  },
  {
   "cell_type": "markdown",
   "id": "ad633eed",
   "metadata": {},
   "source": [
    "### 2D array operations"
   ]
  },
  {
   "cell_type": "markdown",
   "id": "e49af7ac",
   "metadata": {},
   "source": [
    "#### Create"
   ]
  },
  {
   "cell_type": "code",
   "execution_count": 15,
   "id": "1a8b0014",
   "metadata": {},
   "outputs": [
    {
     "name": "stdout",
     "output_type": "stream",
     "text": [
      "2D Array:\n",
      "[[1 2 3]\n",
      " [4 5 6]\n",
      " [7 8 9]]\n"
     ]
    }
   ],
   "source": [
    "arr_2d = np.array([[1, 2, 3],\n",
    "                   [4, 5, 6],\n",
    "                   [7, 8, 9]])\n",
    "\n",
    "print(\"2D Array:\")\n",
    "print(arr_2d)"
   ]
  },
  {
   "cell_type": "markdown",
   "id": "76f58d5b",
   "metadata": {},
   "source": [
    "#### Insert "
   ]
  },
  {
   "cell_type": "code",
   "execution_count": 16,
   "id": "ba00b8a0",
   "metadata": {},
   "outputs": [
    {
     "name": "stdout",
     "output_type": "stream",
     "text": [
      "2D Array after insertion:\n",
      "[[ 1 10  2  3]\n",
      " [ 4 10  5  6]\n",
      " [ 7 10  8  9]]\n"
     ]
    }
   ],
   "source": [
    "arr_2d = np.insert(arr_2d, 1, 10, axis=1)\n",
    "\n",
    "print(\"2D Array after insertion:\")\n",
    "print(arr_2d)"
   ]
  },
  {
   "cell_type": "markdown",
   "id": "947d083d",
   "metadata": {},
   "source": [
    "#### Update "
   ]
  },
  {
   "cell_type": "code",
   "execution_count": 17,
   "id": "dbd5cb4c",
   "metadata": {},
   "outputs": [
    {
     "name": "stdout",
     "output_type": "stream",
     "text": [
      "2D Array after update:\n",
      "[[ 1 10  2  3]\n",
      " [ 4 10 30  6]\n",
      " [ 7 10  8  9]]\n"
     ]
    }
   ],
   "source": [
    "arr_2d[1, 2] = 30\n",
    "\n",
    "print(\"2D Array after update:\")\n",
    "print(arr_2d)"
   ]
  },
  {
   "cell_type": "markdown",
   "id": "baf7bb13",
   "metadata": {},
   "source": [
    "#### Iterate"
   ]
  },
  {
   "cell_type": "code",
   "execution_count": 18,
   "id": "b4b7f8dd",
   "metadata": {},
   "outputs": [
    {
     "name": "stdout",
     "output_type": "stream",
     "text": [
      "Iterating through 2D array:\n",
      "1\n",
      "10\n",
      "2\n",
      "3\n",
      "4\n",
      "10\n",
      "30\n",
      "6\n",
      "7\n",
      "10\n",
      "8\n",
      "9\n"
     ]
    }
   ],
   "source": [
    "print(\"Iterating through 2D array:\")\n",
    "for row in arr_2d:\n",
    "    for element in row:\n",
    "        print(element)"
   ]
  },
  {
   "cell_type": "markdown",
   "id": "3fda95ee",
   "metadata": {},
   "source": [
    "#### Delete"
   ]
  },
  {
   "cell_type": "code",
   "execution_count": 19,
   "id": "352a49bf",
   "metadata": {},
   "outputs": [
    {
     "name": "stdout",
     "output_type": "stream",
     "text": [
      "2D Array after deletion:\n",
      "[[ 1 10  2  3]\n",
      " [ 4 10 30  6]]\n"
     ]
    }
   ],
   "source": [
    "arr_2d = np.delete(arr_2d, 2, axis=0)\n",
    "\n",
    "print(\"2D Array after deletion:\")\n",
    "print(arr_2d)"
   ]
  },
  {
   "cell_type": "markdown",
   "id": "31add9ae",
   "metadata": {},
   "source": [
    "#### Search "
   ]
  },
  {
   "cell_type": "code",
   "execution_count": 20,
   "id": "c5a050c7",
   "metadata": {},
   "outputs": [
    {
     "name": "stdout",
     "output_type": "stream",
     "text": [
      "Element 30 found at indices (array([1], dtype=int64), array([2], dtype=int64))\n"
     ]
    }
   ],
   "source": [
    "element_to_search = 30\n",
    "index = np.where(arr_2d == element_to_search)\n",
    "print(f\"Element {element_to_search} found at indices {index}\")"
   ]
  },
  {
   "cell_type": "markdown",
   "id": "4c0fbe5b",
   "metadata": {},
   "source": [
    "#### Count "
   ]
  },
  {
   "cell_type": "code",
   "execution_count": 21,
   "id": "10f1c26f",
   "metadata": {},
   "outputs": [
    {
     "name": "stdout",
     "output_type": "stream",
     "text": [
      "Count of 10 in the 2D array: 2\n"
     ]
    }
   ],
   "source": [
    "element_to_count = 10\n",
    "count = np.count_nonzero(arr_2d == element_to_count)\n",
    "print(f\"Count of {element_to_count} in the 2D array: {count}\")"
   ]
  },
  {
   "cell_type": "code",
   "execution_count": 22,
   "id": "1f0eef19",
   "metadata": {},
   "outputs": [
    {
     "name": "stdout",
     "output_type": "stream",
     "text": [
      "There are 8 elements present in the 2D array.\n"
     ]
    }
   ],
   "source": [
    "count = 0\n",
    "for row in arr_2d:\n",
    "    for element in row:\n",
    "        count += 1\n",
    "\n",
    "print(f\"There are {count} elements present in the 2D array.\")"
   ]
  },
  {
   "cell_type": "markdown",
   "id": "db658d3b",
   "metadata": {},
   "source": [
    "### 3D array operations"
   ]
  },
  {
   "cell_type": "markdown",
   "id": "496a477a",
   "metadata": {},
   "source": [
    "#### Create"
   ]
  },
  {
   "cell_type": "code",
   "execution_count": 23,
   "id": "1e81c820",
   "metadata": {},
   "outputs": [
    {
     "name": "stdout",
     "output_type": "stream",
     "text": [
      "3D Array:\n",
      "[[[ 1  2  3]\n",
      "  [ 4  5  6]]\n",
      "\n",
      " [[ 7  8  9]\n",
      "  [10 11 12]]\n",
      "\n",
      " [[13 14 15]\n",
      "  [16 17 18]]]\n"
     ]
    }
   ],
   "source": [
    "arr_3d = np.array([[[1, 2, 3],\n",
    "                    [4, 5, 6]],\n",
    "                   [[7, 8, 9],\n",
    "                    [10, 11, 12]],\n",
    "                   [[13, 14, 15],\n",
    "                    [16, 17, 18]]])\n",
    "\n",
    "print(\"3D Array:\")\n",
    "print(arr_3d)"
   ]
  },
  {
   "cell_type": "markdown",
   "id": "0268b27b",
   "metadata": {},
   "source": [
    "#### Insert "
   ]
  },
  {
   "cell_type": "code",
   "execution_count": 24,
   "id": "a2ad2fb8",
   "metadata": {},
   "outputs": [
    {
     "name": "stdout",
     "output_type": "stream",
     "text": [
      "3D Array after insertion:\n",
      "[[[ 1 20  2  3]\n",
      "  [ 4 20  5  6]]\n",
      "\n",
      " [[ 7 20  8  9]\n",
      "  [10 20 11 12]]\n",
      "\n",
      " [[13 20 14 15]\n",
      "  [16 20 17 18]]]\n"
     ]
    }
   ],
   "source": [
    "arr_3d = np.insert(arr_3d, 1, 20, axis=2)\n",
    "\n",
    "print(\"3D Array after insertion:\")\n",
    "print(arr_3d)"
   ]
  },
  {
   "cell_type": "markdown",
   "id": "2a6d05bb",
   "metadata": {},
   "source": [
    "#### Update "
   ]
  },
  {
   "cell_type": "code",
   "execution_count": 25,
   "id": "d41c26af",
   "metadata": {},
   "outputs": [
    {
     "name": "stdout",
     "output_type": "stream",
     "text": [
      "3D Array after update:\n",
      "[[[ 1 20  2  3]\n",
      "  [ 4 20 30  6]]\n",
      "\n",
      " [[ 7 20  8  9]\n",
      "  [10 20 11 12]]\n",
      "\n",
      " [[13 20 14 15]\n",
      "  [16 20 17 18]]]\n"
     ]
    }
   ],
   "source": [
    "arr_3d[0, 1, 2] = 30\n",
    "\n",
    "print(\"3D Array after update:\")\n",
    "print(arr_3d)"
   ]
  },
  {
   "cell_type": "markdown",
   "id": "3e10a15e",
   "metadata": {},
   "source": [
    "####  Iterate"
   ]
  },
  {
   "cell_type": "code",
   "execution_count": 26,
   "id": "06ce7541",
   "metadata": {},
   "outputs": [
    {
     "name": "stdout",
     "output_type": "stream",
     "text": [
      "Iterating through 3D array:\n",
      "1\n",
      "20\n",
      "2\n",
      "3\n",
      "4\n",
      "20\n",
      "30\n",
      "6\n",
      "7\n",
      "20\n",
      "8\n",
      "9\n",
      "10\n",
      "20\n",
      "11\n",
      "12\n",
      "13\n",
      "20\n",
      "14\n",
      "15\n",
      "16\n",
      "20\n",
      "17\n",
      "18\n"
     ]
    }
   ],
   "source": [
    "print(\"Iterating through 3D array:\")\n",
    "for matrix in arr_3d:\n",
    "    for row in matrix:\n",
    "        for element in row:\n",
    "            print(element)"
   ]
  },
  {
   "cell_type": "markdown",
   "id": "f86c4185",
   "metadata": {},
   "source": [
    "#### Delete"
   ]
  },
  {
   "cell_type": "code",
   "execution_count": 27,
   "id": "d90f1b49",
   "metadata": {},
   "outputs": [
    {
     "name": "stdout",
     "output_type": "stream",
     "text": [
      "3D Array after deletion:\n",
      "[[[ 1 20  2  3]]\n",
      "\n",
      " [[ 7 20  8  9]]\n",
      "\n",
      " [[13 20 14 15]]]\n"
     ]
    }
   ],
   "source": [
    "arr_3d = np.delete(arr_3d, 1, axis=1)\n",
    "\n",
    "print(\"3D Array after deletion:\")\n",
    "print(arr_3d)"
   ]
  },
  {
   "cell_type": "markdown",
   "id": "55d77030",
   "metadata": {},
   "source": [
    "#### Search "
   ]
  },
  {
   "cell_type": "code",
   "execution_count": 28,
   "id": "e6957b19",
   "metadata": {},
   "outputs": [
    {
     "name": "stdout",
     "output_type": "stream",
     "text": [
      "Element 30 found at indices (array([], dtype=int64), array([], dtype=int64), array([], dtype=int64))\n"
     ]
    }
   ],
   "source": [
    "element_to_search = 30\n",
    "index = np.where(arr_3d == element_to_search)\n",
    "print(f\"Element {element_to_search} found at indices {index}\")"
   ]
  },
  {
   "cell_type": "markdown",
   "id": "1ff7a9e7",
   "metadata": {},
   "source": [
    "#### Count "
   ]
  },
  {
   "cell_type": "code",
   "execution_count": 29,
   "id": "4f11365c",
   "metadata": {},
   "outputs": [
    {
     "name": "stdout",
     "output_type": "stream",
     "text": [
      "Count of 20 in the 3D array: 3\n"
     ]
    }
   ],
   "source": [
    "element_to_count = 20\n",
    "count = np.count_nonzero(arr_3d == element_to_count)\n",
    "print(f\"Count of {element_to_count} in the 3D array: {count}\")"
   ]
  },
  {
   "cell_type": "code",
   "execution_count": 30,
   "id": "e4dfdc5d",
   "metadata": {},
   "outputs": [
    {
     "name": "stdout",
     "output_type": "stream",
     "text": [
      "There are 12 elements present in the 3D array.\n"
     ]
    }
   ],
   "source": [
    "count = 0\n",
    "for matrix in arr_3d:\n",
    "    for row in matrix:\n",
    "        for element in row:\n",
    "            count += 1\n",
    "\n",
    "print(f\"There are {count} elements present in the 3D array.\")"
   ]
  },
  {
   "cell_type": "markdown",
   "id": "86411670",
   "metadata": {},
   "source": [
    "### Functions for array manipulation"
   ]
  },
  {
   "cell_type": "code",
   "execution_count": 31,
   "id": "922ced5f",
   "metadata": {},
   "outputs": [
    {
     "data": {
      "text/plain": [
       "array([[1, 2, 3],\n",
       "       [4, 5, 6]])"
      ]
     },
     "execution_count": 31,
     "metadata": {},
     "output_type": "execute_result"
    }
   ],
   "source": [
    "arr=np.array([[1,2,3],[4,5,6]])\n",
    "arr"
   ]
  },
  {
   "cell_type": "code",
   "execution_count": 32,
   "id": "0753093d",
   "metadata": {},
   "outputs": [
    {
     "data": {
      "text/plain": [
       "array([[6, 5, 4],\n",
       "       [3, 2, 1]])"
      ]
     },
     "execution_count": 32,
     "metadata": {},
     "output_type": "execute_result"
    }
   ],
   "source": [
    "arr1=np.flip(arr)\n",
    "arr1"
   ]
  },
  {
   "cell_type": "code",
   "execution_count": 33,
   "id": "c90e087d",
   "metadata": {},
   "outputs": [
    {
     "data": {
      "text/plain": [
       "array([[3, 6],\n",
       "       [2, 5],\n",
       "       [1, 4]])"
      ]
     },
     "execution_count": 33,
     "metadata": {},
     "output_type": "execute_result"
    }
   ],
   "source": [
    "arr2=np.rot90(arr,k=1)\n",
    "arr2"
   ]
  },
  {
   "cell_type": "code",
   "execution_count": 34,
   "id": "0beb7825",
   "metadata": {},
   "outputs": [
    {
     "data": {
      "text/plain": [
       "array([[6, 5, 4],\n",
       "       [3, 2, 1]])"
      ]
     },
     "execution_count": 34,
     "metadata": {},
     "output_type": "execute_result"
    }
   ],
   "source": [
    "arr2=np.rot90(arr,k=2)\n",
    "arr2"
   ]
  },
  {
   "cell_type": "code",
   "execution_count": 35,
   "id": "c6c9ac80",
   "metadata": {},
   "outputs": [
    {
     "name": "stdout",
     "output_type": "stream",
     "text": [
      "[1 2 3 4 5 6]\n"
     ]
    }
   ],
   "source": [
    "arr3=np.ravel(arr)\n",
    "print(arr3)"
   ]
  },
  {
   "cell_type": "code",
   "execution_count": 36,
   "id": "cabe63da",
   "metadata": {},
   "outputs": [
    {
     "data": {
      "text/plain": [
       "array([1, 2, 3, 4, 5, 6])"
      ]
     },
     "execution_count": 36,
     "metadata": {},
     "output_type": "execute_result"
    }
   ],
   "source": [
    "arr3=np.ravel(arr)\n",
    "arr3"
   ]
  },
  {
   "cell_type": "code",
   "execution_count": 37,
   "id": "d4466d6e",
   "metadata": {},
   "outputs": [
    {
     "data": {
      "text/plain": [
       "array([1, 2, 3, 4, 5, 6])"
      ]
     },
     "execution_count": 37,
     "metadata": {},
     "output_type": "execute_result"
    }
   ],
   "source": [
    "arr4=arr.flatten()\n",
    "arr4"
   ]
  },
  {
   "cell_type": "code",
   "execution_count": 38,
   "id": "a479b6c2",
   "metadata": {},
   "outputs": [
    {
     "name": "stdout",
     "output_type": "stream",
     "text": [
      "1\n",
      "2\n",
      "3\n",
      "4\n",
      "5\n",
      "6\n"
     ]
    }
   ],
   "source": [
    "for x in np.nditer(arr1):\n",
    "    print(x)"
   ]
  },
  {
   "cell_type": "code",
   "execution_count": 39,
   "id": "7dc2fa2c",
   "metadata": {},
   "outputs": [
    {
     "data": {
      "text/plain": [
       "array([1, 3, 3, 7, 9])"
      ]
     },
     "execution_count": 39,
     "metadata": {},
     "output_type": "execute_result"
    }
   ],
   "source": [
    "a=np.array([3,7,1,9,3])\n",
    "arr5=np.sort(a)\n",
    "arr5"
   ]
  },
  {
   "cell_type": "code",
   "execution_count": 40,
   "id": "b55c5930",
   "metadata": {},
   "outputs": [
    {
     "data": {
      "text/plain": [
       "array([9, 7, 3, 3, 1])"
      ]
     },
     "execution_count": 40,
     "metadata": {},
     "output_type": "execute_result"
    }
   ],
   "source": [
    "a=np.array([3,7,1,9,3])\n",
    "arr5=np.sort(a)[::-1]\n",
    "arr5"
   ]
  },
  {
   "cell_type": "code",
   "execution_count": 41,
   "id": "e91c4f57",
   "metadata": {},
   "outputs": [
    {
     "data": {
      "text/plain": [
       "array([9, 7, 3, 3, 1])"
      ]
     },
     "execution_count": 41,
     "metadata": {},
     "output_type": "execute_result"
    }
   ],
   "source": [
    "a=np.array([3,7,1,9,3])\n",
    "arr5=np.sort(a)[-1::-1]\n",
    "arr5"
   ]
  },
  {
   "cell_type": "code",
   "execution_count": 42,
   "id": "0f343d0a",
   "metadata": {},
   "outputs": [
    {
     "data": {
      "text/plain": [
       "array([9, 7, 3, 3, 1])"
      ]
     },
     "execution_count": 42,
     "metadata": {},
     "output_type": "execute_result"
    }
   ],
   "source": [
    "a=np.array([3,7,1,9,3])\n",
    "arr5=np.sort(a)[-1:-6:-1]\n",
    "arr5"
   ]
  },
  {
   "cell_type": "code",
   "execution_count": 43,
   "id": "52fb7756",
   "metadata": {},
   "outputs": [
    {
     "data": {
      "text/plain": [
       "array([[3],\n",
       "       [7],\n",
       "       [1],\n",
       "       [9],\n",
       "       [3]])"
      ]
     },
     "execution_count": 43,
     "metadata": {},
     "output_type": "execute_result"
    }
   ],
   "source": [
    "arr2d=a[:,np.newaxis]\n",
    "arr2d"
   ]
  },
  {
   "cell_type": "code",
   "execution_count": 44,
   "id": "fdcd17f9",
   "metadata": {},
   "outputs": [
    {
     "data": {
      "text/plain": [
       "array([[[ 1,  2,  3],\n",
       "        [ 4,  5,  6]],\n",
       "\n",
       "       [[ 7,  8,  9],\n",
       "        [10, 11, 12]]])"
      ]
     },
     "execution_count": 44,
     "metadata": {},
     "output_type": "execute_result"
    }
   ],
   "source": [
    "arr_1d = np.array([1, 2, 3, 4, 5, 6, 7, 8, 9, 10, 11, 12])\n",
    "arr3d=arr_1d.reshape((2,2,3))\n",
    "arr3d"
   ]
  },
  {
   "cell_type": "code",
   "execution_count": 45,
   "id": "b3736418",
   "metadata": {},
   "outputs": [
    {
     "data": {
      "text/plain": [
       "array([[[1, 2, 3],\n",
       "        [4, 5, 6],\n",
       "        [7, 8, 9]]])"
      ]
     },
     "execution_count": 45,
     "metadata": {},
     "output_type": "execute_result"
    }
   ],
   "source": [
    "arr_2d = np.array([[1, 2, 3],\n",
    "                   [4, 5, 6],\n",
    "                   [7, 8, 9]])\n",
    "arr_3d = arr_2d.reshape((1, 3, 3))\n",
    "arr_3d"
   ]
  },
  {
   "cell_type": "code",
   "execution_count": 46,
   "id": "3154b880",
   "metadata": {},
   "outputs": [
    {
     "name": "stdout",
     "output_type": "stream",
     "text": [
      "[False False  True False False False]\n"
     ]
    }
   ],
   "source": [
    "import numpy as np\n",
    "my_array = np.array(['a', 'b', 'c', 'd', 'e', 'f'])\n",
    "letter_to_check = 'c'\n",
    "positions = np.where(my_array == letter_to_check)[0]\n",
    "result = np.isin(np.arange(len(my_array)), positions)\n",
    "print(result)"
   ]
  },
  {
   "cell_type": "code",
   "execution_count": 47,
   "id": "8a57c396",
   "metadata": {},
   "outputs": [
    {
     "name": "stdout",
     "output_type": "stream",
     "text": [
      "7\n"
     ]
    }
   ],
   "source": [
    "txt = \"Hello, welcome to my world.\"\n",
    "\n",
    "x = txt.index(\"welcome\")\n",
    "\n",
    "print(x)"
   ]
  }
 ],
 "metadata": {
  "kernelspec": {
   "display_name": "Python 3 (ipykernel)",
   "language": "python",
   "name": "python3"
  },
  "language_info": {
   "codemirror_mode": {
    "name": "ipython",
    "version": 3
   },
   "file_extension": ".py",
   "mimetype": "text/x-python",
   "name": "python",
   "nbconvert_exporter": "python",
   "pygments_lexer": "ipython3",
   "version": "3.9.12"
  }
 },
 "nbformat": 4,
 "nbformat_minor": 5
}
