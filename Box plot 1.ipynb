{
 "cells": [
  {
   "cell_type": "markdown",
   "id": "383a90c3",
   "metadata": {},
   "source": [
    "# Experiment 6"
   ]
  },
  {
   "cell_type": "markdown",
   "id": "69ae5dc0",
   "metadata": {},
   "source": [
    "##### Aim : Solving plotting problems of Box Plot"
   ]
  },
  {
   "cell_type": "markdown",
   "id": "9d551f67",
   "metadata": {},
   "source": [
    "##### Create/ Take data set, calculate mean, median, mode, standard Deviation, percentile and quintile.\n",
    "##### Use describe() function in pandas, plot (whisker/box) and compare result"
   ]
  },
  {
   "cell_type": "code",
   "execution_count": 2,
   "id": "ce7021f5",
   "metadata": {},
   "outputs": [
    {
     "data": {
      "image/png": "[encoded data removed]",
      "text/plain": [
       "<Figure size 720x432 with 1 Axes>"
      ]
     },
     "metadata": {
      "needs_background": "light"
     },
     "output_type": "display_data"
    },
    {
     "name": "stdout",
     "output_type": "stream",
     "text": [
      "Minimum value = 23.802548959102555\n",
      "Maximum value = 68.52278184508938\n",
      "Q1: First quartile = 43.99094329503547\n",
      "Q2: Second quartile or median = 48.73043708220287\n",
      "Q3: Third quartile = 54.05952052012062\n",
      "\n",
      "Summary Statistics:\n",
      "            Value\n",
      "count  100.000000\n",
      "mean    48.961535\n",
      "std      9.081684\n",
      "min     23.802549\n",
      "25%     43.990943\n",
      "50%     48.730437\n",
      "75%     54.059521\n",
      "max     68.522782\n"
     ]
    }
   ],
   "source": [
    "import pandas as pd\n",
    "import numpy as np\n",
    "import matplotlib.pyplot as plt\n",
    "\n",
    "# Create a sample dataset\n",
    "np.random.seed(42)\n",
    "data = np.random.normal(loc=50, scale=10, size=100)\n",
    "\n",
    "# Create a DataFrame\n",
    "df = pd.DataFrame(data, columns=['Value'])\n",
    "\n",
    "# Calculate mean, median, mode, standard deviation, percentile, and quintile\n",
    "mean_value = df['Value'].mean()\n",
    "median_value = df['Value'].median()\n",
    "mode_value = df['Value'].mode()[0]  # mode can be multiple, so we take the first one\n",
    "std_deviation = df['Value'].std()\n",
    "percentile_25 = df['Value'].quantile(0.25)\n",
    "percentile_75 = df['Value'].quantile(0.75)\n",
    "quintile_20 = df['Value'].quantile(0.20)\n",
    "quintile_40 = df['Value'].quantile(0.40)\n",
    "quintile_60 = df['Value'].quantile(0.60)\n",
    "quintile_80 = df['Value'].quantile(0.80)\n",
    "\n",
    "# Summarize statistics using describe()\n",
    "describe_stats = df.describe()\n",
    "\n",
    "# Plot boxplot\n",
    "plt.figure(figsize=(10, 6))\n",
    "df.boxplot()\n",
    "plt.title('Boxplot of Sample Data')\n",
    "plt.ylabel('Value')\n",
    "plt.show()\n",
    "\n",
    "# Output results in requested format\n",
    "print(\"Minimum value =\", df['Value'].min())\n",
    "print(\"Maximum value =\", df['Value'].max())\n",
    "print(\"Q1: First quartile =\", percentile_25)\n",
    "print(\"Q2: Second quartile or median =\", median_value)\n",
    "print(\"Q3: Third quartile =\", percentile_75)\n",
    "\n",
    "print(\"\\nSummary Statistics:\")\n",
    "print(describe_stats)\n"
   ]
  },
  {
   "cell_type": "code",
   "execution_count": 5,
   "id": "b23dc0a3",
   "metadata": {},
   "outputs": [
    {
     "data": {
      "image/png": "[encoded data removed]",
      "text/plain": [
       "<Figure size 720x432 with 1 Axes>"
      ]
     },
     "metadata": {
      "needs_background": "light"
     },
     "output_type": "display_data"
    },
    {
     "name": "stdout",
     "output_type": "stream",
     "text": [
      "Mean: 48.96153482605906\n",
      "Median: 48.73043708220287\n",
      "Mode: 23.802548959102555\n",
      "Maximum value: 68.52278184508938\n",
      "Minimum value: 23.802548959102555\n",
      "First quartile: 43.99094329503547\n",
      "Second quartile or median: 48.73043708220287\n",
      "Third quartile: 54.05952052012062\n",
      "20th percentile: 42.62425912705596\n",
      "40th percentile: 46.95652832305941\n",
      "60th percentile: 51.35100866301907\n",
      "80th percentile: 56.65844146479636\n",
      "\n",
      "Summary Statistics:\n",
      "            Value\n",
      "count  100.000000\n",
      "mean    48.961535\n",
      "std      9.081684\n",
      "min     23.802549\n",
      "25%     43.990943\n",
      "50%     48.730437\n",
      "75%     54.059521\n",
      "max     68.522782\n"
     ]
    }
   ],
   "source": [
    "import pandas as pd\n",
    "import numpy as np\n",
    "import matplotlib.pyplot as plt\n",
    "\n",
    "# Create a sample dataset\n",
    "np.random.seed(42)\n",
    "data = np.random.normal(loc=50, scale=10, size=100)\n",
    "\n",
    "# Create a DataFrame\n",
    "df = pd.DataFrame(data, columns=['Value'])\n",
    "\n",
    "# Calculate mean, median, mode, standard deviation, percentile, and quintile\n",
    "mean_value = df['Value'].mean()\n",
    "median_value = df['Value'].median()\n",
    "mode_value = df['Value'].mode()[0]  # mode can be multiple, so we take the first one\n",
    "std_deviation = df['Value'].std()\n",
    "percentile_25 = df['Value'].quantile(0.25)\n",
    "percentile_50 = df['Value'].quantile(0.50)\n",
    "percentile_75 = df['Value'].quantile(0.75)\n",
    "quintile_20 = df['Value'].quantile(0.20)\n",
    "quintile_40 = df['Value'].quantile(0.40)\n",
    "quintile_60 = df['Value'].quantile(0.60)\n",
    "quintile_80 = df['Value'].quantile(0.80)\n",
    "\n",
    "# Plot boxplot\n",
    "plt.figure(figsize=(10, 6))\n",
    "df.boxplot()\n",
    "plt.title('Boxplot of Sample Data')\n",
    "plt.ylabel('Value')\n",
    "plt.show()\n",
    "\n",
    "# Output results\n",
    "print(\"Mean:\", mean_value)\n",
    "print(\"Median:\", median_value)\n",
    "print(\"Mode:\", mode_value)\n",
    "print(\"Maximum value:\", df['Value'].max())\n",
    "print(\"Minimum value:\", df['Value'].min())\n",
    "print(\"First quartile:\", percentile_25)\n",
    "print(\"Second quartile or median:\", percentile_50)\n",
    "print(\"Third quartile:\", percentile_75)\n",
    "print(\"20th percentile:\", quintile_20)\n",
    "print(\"40th percentile:\", quintile_40)\n",
    "print(\"60th percentile:\", quintile_60)\n",
    "print(\"80th percentile:\", quintile_80)\n",
    "\n",
    "# Summarize statistics using describe()\n",
    "describe_stats = df.describe()\n",
    "print(\"\\nSummary Statistics:\")\n",
    "print(describe_stats)\n"
   ]
  },
  {
   "cell_type": "code",
   "execution_count": 6,
   "id": "d4688018",
   "metadata": {},
   "outputs": [
    {
     "data": {
      "image/png": "[encoded data removed]",
      "text/plain": [
       "<Figure size 720x432 with 1 Axes>"
      ]
     },
     "metadata": {
      "needs_background": "light"
     },
     "output_type": "display_data"
    }
   ],
   "source": [
    "import pandas as pd\n",
    "import numpy as np\n",
    "import matplotlib.pyplot as plt\n",
    "\n",
    "# Create a sample dataset\n",
    "np.random.seed(42)\n",
    "data = np.random.normal(loc=50, scale=10, size=100)\n",
    "\n",
    "# Create a DataFrame\n",
    "df = pd.DataFrame(data, columns=['Value'])\n",
    "\n",
    "# Calculate percentiles\n",
    "percentile_25 = df['Value'].quantile(0.25)\n",
    "percentile_50 = df['Value'].quantile(0.50)\n",
    "percentile_75 = df['Value'].quantile(0.75)\n",
    "quintile_20 = df['Value'].quantile(0.20)\n",
    "quintile_40 = df['Value'].quantile(0.40)\n",
    "quintile_60 = df['Value'].quantile(0.60)\n",
    "quintile_80 = df['Value'].quantile(0.80)\n",
    "\n",
    "# Plot boxplot\n",
    "plt.figure(figsize=(10, 6))\n",
    "box = df.boxplot()\n",
    "plt.title('Boxplot of Sample Data')\n",
    "plt.ylabel('Value')\n",
    "\n",
    "# Add markers for quintiles\n",
    "plt.scatter([1, 1, 1, 1], [quintile_20, quintile_40, quintile_60, quintile_80], color='red', zorder=5, label='Quintiles')\n",
    "\n",
    "# Add labels\n",
    "plt.text(1.2, quintile_20, '20th percentile', verticalalignment='center', fontsize=10)\n",
    "plt.text(1.2, quintile_40, '40th percentile', verticalalignment='center', fontsize=10)\n",
    "plt.text(1.2, quintile_60, '60th percentile', verticalalignment='center', fontsize=10)\n",
    "plt.text(1.2, quintile_80, '80th percentile', verticalalignment='center', fontsize=10)\n",
    "\n",
    "# Show plot\n",
    "plt.legend()\n",
    "plt.show()\n"
   ]
  },
  {
   "cell_type": "code",
   "execution_count": 7,
   "id": "7a84477d",
   "metadata": {},
   "outputs": [
    {
     "data": {
      "image/png": "[encoded data removed]",
      "text/plain": [
       "<Figure size 720x432 with 1 Axes>"
      ]
     },
     "metadata": {
      "needs_background": "light"
     },
     "output_type": "display_data"
    }
   ],
   "source": [
    "import pandas as pd\n",
    "import numpy as np\n",
    "import matplotlib.pyplot as plt\n",
    "\n",
    "# Create a sample dataset\n",
    "np.random.seed(42)\n",
    "data = np.random.normal(loc=50, scale=10, size=100)\n",
    "\n",
    "# Create a DataFrame\n",
    "df = pd.DataFrame(data, columns=['Value'])\n",
    "\n",
    "# Calculate quartiles and quintiles\n",
    "percentile_25 = df['Value'].quantile(0.25)\n",
    "percentile_50 = df['Value'].quantile(0.50)\n",
    "percentile_75 = df['Value'].quantile(0.75)\n",
    "quintile_20 = df['Value'].quantile(0.20)\n",
    "quintile_40 = df['Value'].quantile(0.40)\n",
    "quintile_60 = df['Value'].quantile(0.60)\n",
    "quintile_80 = df['Value'].quantile(0.80)\n",
    "\n",
    "# Plot boxplot\n",
    "plt.figure(figsize=(10, 6))\n",
    "box = df.boxplot()\n",
    "plt.title('Boxplot of Sample Data')\n",
    "plt.ylabel('Value')\n",
    "\n",
    "# Add markers for quartiles\n",
    "plt.scatter([1, 1, 1], [percentile_25, percentile_50, percentile_75], color='blue', zorder=5, label='Quartiles')\n",
    "\n",
    "# Add labels for quartiles\n",
    "plt.text(1.2, percentile_25, '25th percentile', verticalalignment='center', fontsize=10)\n",
    "plt.text(1.2, percentile_50, 'Median (50th percentile)', verticalalignment='center', fontsize=10)\n",
    "plt.text(1.2, percentile_75, '75th percentile', verticalalignment='center', fontsize=10)\n",
    "\n",
    "# Add markers for quintiles\n",
    "plt.scatter([1, 1, 1, 1], [quintile_20, quintile_40, quintile_60, quintile_80], color='red', zorder=5, label='Quintiles')\n",
    "\n",
    "# Add labels for quintiles\n",
    "plt.text(1.2, quintile_20, '20th percentile', verticalalignment='center', fontsize=10)\n",
    "plt.text(1.2, quintile_40, '40th percentile', verticalalignment='center', fontsize=10)\n",
    "plt.text(1.2, quintile_60, '60th percentile', verticalalignment='center', fontsize=10)\n",
    "plt.text(1.2, quintile_80, '80th percentile', verticalalignment='center', fontsize=10)\n",
    "\n",
    "# Show plot\n",
    "plt.legend()\n",
    "plt.show()\n"
   ]
  },
  {
   "cell_type": "code",
   "execution_count": null,
   "id": "0e0d3f5e",
   "metadata": {},
   "outputs": [],
   "source": []
  }
 ],
 "metadata": {
  "kernelspec": {
   "display_name": "Python 3 (ipykernel)",
   "language": "python",
   "name": "python3"
  },
  "language_info": {
   "codemirror_mode": {
    "name": "ipython",
    "version": 3
   },
   "file_extension": ".py",
   "mimetype": "text/x-python",
   "name": "python",
   "nbconvert_exporter": "python",
   "pygments_lexer": "ipython3",
   "version": "3.9.12"
  }
 },
 "nbformat": 4,
 "nbformat_minor": 5
}
