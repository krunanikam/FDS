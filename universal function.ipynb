{
 "cells": [
  {
   "cell_type": "code",
   "execution_count": 1,
   "id": "10a1d06a",
   "metadata": {},
   "outputs": [],
   "source": [
    "import numpy as np"
   ]
  },
  {
   "cell_type": "markdown",
   "id": "2cb38020",
   "metadata": {},
   "source": [
    "# Creating Universal Function"
   ]
  },
  {
   "cell_type": "code",
   "execution_count": 2,
   "id": "bb8a71a7",
   "metadata": {},
   "outputs": [
    {
     "name": "stdout",
     "output_type": "stream",
     "text": [
      "[5 7 9]\n"
     ]
    }
   ],
   "source": [
    "def universal_function(arr1, arr2):\n",
    "    result = np.add(arr1, arr2)\n",
    "    return result\n",
    "array1 = np.array([1, 2, 3])\n",
    "array2 = np.array([4, 5, 6])\n",
    "result_array = universal_function(array1, array2)\n",
    "print(result_array)"
   ]
  },
  {
   "cell_type": "code",
   "execution_count": 3,
   "id": "2cbec922",
   "metadata": {},
   "outputs": [
    {
     "data": {
      "text/plain": [
       "numpy.ndarray"
      ]
     },
     "execution_count": 3,
     "metadata": {},
     "output_type": "execute_result"
    }
   ],
   "source": [
    "type(result_array)"
   ]
  },
  {
   "cell_type": "code",
   "execution_count": 4,
   "id": "8d3dd77f",
   "metadata": {},
   "outputs": [
    {
     "data": {
      "text/plain": [
       "function"
      ]
     },
     "execution_count": 4,
     "metadata": {},
     "output_type": "execute_result"
    }
   ],
   "source": [
    "type(universal_function)"
   ]
  },
  {
   "cell_type": "markdown",
   "id": "68d25c8a",
   "metadata": {},
   "source": [
    "# Inbuilt Function"
   ]
  },
  {
   "cell_type": "code",
   "execution_count": 5,
   "id": "c2c810da",
   "metadata": {},
   "outputs": [
    {
     "name": "stdout",
     "output_type": "stream",
     "text": [
      "[-3 -3 -3]\n"
     ]
    }
   ],
   "source": [
    "def universal_function(arr1, arr2):\n",
    "    result = np.subtract(arr1, arr2)\n",
    "    return result\n",
    "array1 = np.array([1, 2, 3])\n",
    "array2 = np.array([4, 5, 6])\n",
    "result_array = universal_function(array1, array2)\n",
    "print(result_array)\n"
   ]
  },
  {
   "cell_type": "code",
   "execution_count": 6,
   "id": "16889968",
   "metadata": {},
   "outputs": [
    {
     "name": "stdout",
     "output_type": "stream",
     "text": [
      "[ 2.71828183  7.3890561  20.08553692]\n"
     ]
    }
   ],
   "source": [
    "def universal_function(arr1, arr2):\n",
    "    result = np.exp(arr1)\n",
    "    return result\n",
    "array1 = np.array([1, 2, 3])\n",
    "array2 = np.array([4, 5, 6])\n",
    "result_array = universal_function(array1, array2)\n",
    "print(result_array)"
   ]
  },
  {
   "cell_type": "code",
   "execution_count": 7,
   "id": "ba24bca0",
   "metadata": {},
   "outputs": [
    {
     "name": "stdout",
     "output_type": "stream",
     "text": [
      "[0.         0.69314718 1.09861229]\n"
     ]
    }
   ],
   "source": [
    "def universal_function(arr1, arr2):\n",
    "    result = np.log(arr1)\n",
    "    return result\n",
    "array1 = np.array([1, 2, 3])\n",
    "array2 = np.array([4, 5, 6])\n",
    "result_array = universal_function(array1, array2)\n",
    "print(result_array)"
   ]
  },
  {
   "cell_type": "code",
   "execution_count": 8,
   "id": "e60e1ae6",
   "metadata": {},
   "outputs": [
    {
     "name": "stdout",
     "output_type": "stream",
     "text": [
      "[0.84147098 0.90929743 0.14112001]\n"
     ]
    }
   ],
   "source": [
    "def universal_function(arr1, arr2):\n",
    "    result = np.sin(arr1)\n",
    "    return result\n",
    "array1 = np.array([1, 2, 3])\n",
    "array2 = np.array([4, 5, 6])\n",
    "result_array = universal_function(array1, array2)\n",
    "print(result_array)"
   ]
  },
  {
   "cell_type": "code",
   "execution_count": 9,
   "id": "5d9eee8f",
   "metadata": {},
   "outputs": [
    {
     "name": "stdout",
     "output_type": "stream",
     "text": [
      "[ 0.54030231 -0.41614684 -0.9899925 ]\n"
     ]
    }
   ],
   "source": [
    "def universal_function(arr1, arr2):\n",
    "    result = np.cos(arr1)\n",
    "    return result\n",
    "array1 = np.array([1, 2, 3])\n",
    "array2 = np.array([4, 5, 6])\n",
    "result_array = universal_function(array1, array2)\n",
    "print(result_array)"
   ]
  },
  {
   "cell_type": "markdown",
   "id": "b7d026bc",
   "metadata": {},
   "source": [
    "# Operations On Universal Function"
   ]
  },
  {
   "cell_type": "markdown",
   "id": "49cf462f",
   "metadata": {},
   "source": [
    "# 1.Arithmetic Operations"
   ]
  },
  {
   "cell_type": "code",
   "execution_count": 10,
   "id": "615effc8",
   "metadata": {},
   "outputs": [
    {
     "name": "stdout",
     "output_type": "stream",
     "text": [
      "Original Result: [ 5  8 11]\n",
      "Squared Result: [ 25  64 121]\n",
      "Sum of Result: 24\n",
      "Mean of Result: 8.0\n"
     ]
    }
   ],
   "source": [
    "import numpy as np\n",
    "def universal_function(arr1, arr2):\n",
    "    result = np.add(np.multiply(arr1, 2), np.subtract(arr2, 1))\n",
    "    return result\n",
    "array1 = np.array([1, 2, 3])\n",
    "array2 = np.array([4, 5, 6])\n",
    "result_array = universal_function(array1, array2)\n",
    "squared_result = np.square(result_array)\n",
    "sum_result = np.sum(result_array)\n",
    "mean_result = np.mean(result_array)\n",
    "print(\"Original Result:\", result_array)\n",
    "print(\"Squared Result:\", squared_result)\n",
    "print(\"Sum of Result:\", sum_result)\n",
    "print(\"Mean of Result:\", mean_result)"
   ]
  },
  {
   "cell_type": "code",
   "execution_count": null,
   "id": "0af60cce",
   "metadata": {},
   "outputs": [],
   "source": []
  }
 ],
 "metadata": {
  "kernelspec": {
   "display_name": "Python 3 (ipykernel)",
   "language": "python",
   "name": "python3"
  },
  "language_info": {
   "codemirror_mode": {
    "name": "ipython",
    "version": 3
   },
   "file_extension": ".py",
   "mimetype": "text/x-python",
   "name": "python",
   "nbconvert_exporter": "python",
   "pygments_lexer": "ipython3",
   "version": "3.9.12"
  }
 },
 "nbformat": 4,
 "nbformat_minor": 5
}
