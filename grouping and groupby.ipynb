{
 "cells": [
  {
   "cell_type": "markdown",
   "id": "994eef0f",
   "metadata": {},
   "source": [
    "# Experiment 11"
   ]
  },
  {
   "cell_type": "code",
   "execution_count": 1,
   "id": "5595a8fc-ffb7-4cc1-9e75-486eda99f475",
   "metadata": {},
   "outputs": [],
   "source": [
    "import pandas as pd\n",
    "data = {\n",
    "    'values': [10, 20, 30, 40, 50],\n",
    "    'index_col_1': ['A', 'A', 'B', 'B', 'C'],\n",
    "    'index_col_2': [1, 2, 1, 2, 1]\n",
    "}\n",
    "df = pd.DataFrame(data)"
   ]
  },
  {
   "cell_type": "markdown",
   "id": "35e76f08",
   "metadata": {},
   "source": [
    "#### Mean"
   ]
  },
  {
   "cell_type": "code",
   "execution_count": 2,
   "id": "9b7f61bf-aa65-4336-b5df-3b774530dcf6",
   "metadata": {},
   "outputs": [
    {
     "name": "stdout",
     "output_type": "stream",
     "text": [
      "Mean: 30.0\n"
     ]
    }
   ],
   "source": [
    "mean_value = df['values'].mean()\n",
    "print(\"Mean:\", mean_value)"
   ]
  },
  {
   "cell_type": "markdown",
   "id": "6c25ccc6",
   "metadata": {},
   "source": [
    "#### Median"
   ]
  },
  {
   "cell_type": "code",
   "execution_count": 3,
   "id": "47c60cb8-09c7-4b81-9afa-f1613886f979",
   "metadata": {},
   "outputs": [
    {
     "name": "stdout",
     "output_type": "stream",
     "text": [
      "Median: 30.0\n"
     ]
    }
   ],
   "source": [
    "median_value = df['values'].median()\n",
    "print(\"Median:\", median_value)\n"
   ]
  },
  {
   "cell_type": "markdown",
   "id": "43c28baf",
   "metadata": {},
   "source": [
    "#### Min"
   ]
  },
  {
   "cell_type": "code",
   "execution_count": 4,
   "id": "f10dd5c4-6b40-41d1-af8f-da22c9b30ac2",
   "metadata": {},
   "outputs": [
    {
     "name": "stdout",
     "output_type": "stream",
     "text": [
      "Min: 10\n"
     ]
    }
   ],
   "source": [
    "min_value = df['values'].min()\n",
    "print(\"Min:\", min_value)\n"
   ]
  },
  {
   "cell_type": "markdown",
   "id": "5b2a4215",
   "metadata": {},
   "source": [
    "#### Max"
   ]
  },
  {
   "cell_type": "code",
   "execution_count": 5,
   "id": "313e1b6a-8380-44f0-aa3f-271461026c48",
   "metadata": {},
   "outputs": [
    {
     "name": "stdout",
     "output_type": "stream",
     "text": [
      "Max: 50\n"
     ]
    }
   ],
   "source": [
    "max_value = df['values'].max()\n",
    "print(\"Max:\", max_value)\n"
   ]
  },
  {
   "cell_type": "markdown",
   "id": "45fd4965",
   "metadata": {},
   "source": [
    "#### Sum"
   ]
  },
  {
   "cell_type": "code",
   "execution_count": 6,
   "id": "0c8a9856-3e95-448a-b687-395ebababb5d",
   "metadata": {},
   "outputs": [
    {
     "name": "stdout",
     "output_type": "stream",
     "text": [
      "Sum: 150\n"
     ]
    }
   ],
   "source": [
    "sum_value = df['values'].sum()\n",
    "print(\"Sum:\", sum_value)\n"
   ]
  },
  {
   "cell_type": "markdown",
   "id": "69949ccf",
   "metadata": {},
   "source": [
    "#### Setting Multi-Index in a DataFrame and Displaying with Index Names"
   ]
  },
  {
   "cell_type": "code",
   "execution_count": 7,
   "id": "476558c8-15ab-4591-83a5-c8378d8ffb2a",
   "metadata": {},
   "outputs": [
    {
     "name": "stdout",
     "output_type": "stream",
     "text": [
      "Multi-Index DataFrame:\n",
      "                         values\n",
      "index_col_1 index_col_2        \n",
      "A           1                10\n",
      "            2                20\n",
      "B           1                30\n",
      "            2                40\n",
      "C           1                50\n"
     ]
    }
   ],
   "source": [
    "df.set_index(['index_col_1', 'index_col_2'], inplace=True)\n",
    "print(\"Multi-Index DataFrame:\")\n",
    "print(df)\n"
   ]
  },
  {
   "cell_type": "markdown",
   "id": "fa8b060f",
   "metadata": {},
   "source": [
    "#### Extracting Group Keys from Multi-Index DataFrame"
   ]
  },
  {
   "cell_type": "code",
   "execution_count": 8,
   "id": "3582a3d8-cda1-4729-8d23-fa4f636b1daa",
   "metadata": {},
   "outputs": [
    {
     "name": "stdout",
     "output_type": "stream",
     "text": [
      "Group Keys: [('A', 1), ('A', 2), ('B', 1), ('B', 2), ('C', 1)]\n"
     ]
    }
   ],
   "source": [
    "group_keys = df.groupby(level=['index_col_1', 'index_col_2']).groups.keys()\n",
    "print(\"Group Keys:\", list(group_keys))\n"
   ]
  },
  {
   "cell_type": "markdown",
   "id": "5e348432",
   "metadata": {},
   "source": [
    "#### Count"
   ]
  },
  {
   "cell_type": "code",
   "execution_count": 9,
   "id": "e099946b-7600-4fe7-a4bd-ce2cea70a91e",
   "metadata": {},
   "outputs": [
    {
     "name": "stdout",
     "output_type": "stream",
     "text": [
      "Count: 5\n"
     ]
    }
   ],
   "source": [
    "count_values = df['values'].count()\n",
    "print(\"Count:\", count_values)\n"
   ]
  },
  {
   "cell_type": "markdown",
   "id": "e5473a8d",
   "metadata": {},
   "source": [
    "#### Average "
   ]
  },
  {
   "cell_type": "code",
   "execution_count": 10,
   "id": "c8e35c9a-ac6f-4f61-be9e-a6848ce81f60",
   "metadata": {},
   "outputs": [
    {
     "name": "stdout",
     "output_type": "stream",
     "text": [
      "Average: 30.0\n"
     ]
    }
   ],
   "source": [
    "average_value = df['values'].mean()\n",
    "print(\"Average:\", average_value)\n"
   ]
  },
  {
   "cell_type": "markdown",
   "id": "2b4d40ff",
   "metadata": {},
   "source": [
    "#### Correlation Matrix"
   ]
  },
  {
   "cell_type": "code",
   "execution_count": 11,
   "id": "b318f2bf-54b2-40bc-901f-0a7343416cdd",
   "metadata": {},
   "outputs": [
    {
     "name": "stdout",
     "output_type": "stream",
     "text": [
      "Correlation Matrix:\n",
      "         values\n",
      "values     1.0\n"
     ]
    }
   ],
   "source": [
    "corr_matrix = df.corr()\n",
    "print(\"Correlation Matrix:\\n\", corr_matrix)\n"
   ]
  },
  {
   "cell_type": "markdown",
   "id": "39046242",
   "metadata": {},
   "source": [
    "#### Droping NaN values"
   ]
  },
  {
   "cell_type": "code",
   "execution_count": 12,
   "id": "5012de5f-7aca-42cf-a99e-b1acfb1e1123",
   "metadata": {},
   "outputs": [
    {
     "name": "stdout",
     "output_type": "stream",
     "text": [
      "DataFrame after dropping NaN values:\n",
      "                         values\n",
      "index_col_1 index_col_2        \n",
      "A           1                10\n",
      "            2                20\n",
      "B           1                30\n",
      "            2                40\n",
      "C           1                50\n"
     ]
    }
   ],
   "source": [
    "df.dropna(inplace=True)\n",
    "print(\"DataFrame after dropping NaN values:\")\n",
    "print(df)\n"
   ]
  },
  {
   "cell_type": "markdown",
   "id": "6865e1dc",
   "metadata": {},
   "source": [
    "#### Squeezing DataFrame "
   ]
  },
  {
   "cell_type": "code",
   "execution_count": 13,
   "id": "99ce80da-c4be-43e5-a3e2-d863cdc3da5a",
   "metadata": {},
   "outputs": [
    {
     "name": "stdout",
     "output_type": "stream",
     "text": [
      "Squeezed DataFrame:\n",
      "index_col_1  index_col_2\n",
      "A            1              10\n",
      "             2              20\n",
      "B            1              30\n",
      "             2              40\n",
      "C            1              50\n",
      "Name: values, dtype: int64\n"
     ]
    }
   ],
   "source": [
    "df_squeezed = df.squeeze()\n",
    "print(\"Squeezed DataFrame:\")\n",
    "print(df_squeezed)\n"
   ]
  }
 ],
 "metadata": {
  "kernelspec": {
   "display_name": "Python 3 (ipykernel)",
   "language": "python",
   "name": "python3"
  },
  "language_info": {
   "codemirror_mode": {
    "name": "ipython",
    "version": 3
   },
   "file_extension": ".py",
   "mimetype": "text/x-python",
   "name": "python",
   "nbconvert_exporter": "python",
   "pygments_lexer": "ipython3",
   "version": "3.9.12"
  }
 },
 "nbformat": 4,
 "nbformat_minor": 5
}
