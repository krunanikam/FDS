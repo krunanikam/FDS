{
 "cells": [
  {
   "cell_type": "markdown",
   "id": "a1dfa8b0",
   "metadata": {},
   "source": [
    "# Experiment 9"
   ]
  },
  {
   "cell_type": "markdown",
   "id": "682b889c",
   "metadata": {},
   "source": [
    "## Normal Distribution"
   ]
  },
  {
   "cell_type": "code",
   "execution_count": 133,
   "id": "9ebc6424",
   "metadata": {},
   "outputs": [],
   "source": [
    "from numpy import random\n",
    "import matplotlib.pyplot as plt\n",
    "import seaborn as sns"
   ]
  },
  {
   "cell_type": "code",
   "execution_count": 134,
   "id": "ae4f3171",
   "metadata": {},
   "outputs": [],
   "source": [
    "x=random.normal(loc=1, scale=2, size=(2,4))"
   ]
  },
  {
   "cell_type": "code",
   "execution_count": 135,
   "id": "51e75281",
   "metadata": {},
   "outputs": [
    {
     "name": "stdout",
     "output_type": "stream",
     "text": [
      "[[-0.87693305  1.29719168 -1.6117802   1.31025381]\n",
      " [ 0.12490736 -0.32366971  1.42944722  0.28532201]]\n"
     ]
    }
   ],
   "source": [
    "print(x)"
   ]
  },
  {
   "cell_type": "markdown",
   "id": "61a31061",
   "metadata": {},
   "source": [
    "### Visualization of Normal Distribution"
   ]
  },
  {
   "cell_type": "code",
   "execution_count": 136,
   "id": "8d3a8aea",
   "metadata": {},
   "outputs": [
    {
     "name": "stderr",
     "output_type": "stream",
     "text": [
      "C:\\anaconda\\lib\\site-packages\\seaborn\\distributions.py:2619: FutureWarning: `distplot` is a deprecated function and will be removed in a future version. Please adapt your code to use either `displot` (a figure-level function with similar flexibility) or `kdeplot` (an axes-level function for kernel density plots).\n",
      "  warnings.warn(msg, FutureWarning)\n"
     ]
    },
    {
     "data": {
      "image/png": "[encoded data removed]",
      "text/plain": [
       "<Figure size 432x288 with 1 Axes>"
      ]
     },
     "metadata": {
      "needs_background": "light"
     },
     "output_type": "display_data"
    }
   ],
   "source": [
    "sns.distplot(x, hist=False)\n",
    "\n",
    "plt.show()"
   ]
  },
  {
   "cell_type": "markdown",
   "id": "47fb705a",
   "metadata": {},
   "source": [
    "## Poisson Distribution"
   ]
  },
  {
   "cell_type": "code",
   "execution_count": 137,
   "id": "f51804d9",
   "metadata": {},
   "outputs": [],
   "source": [
    "y=random.poisson(lam=2, size=(500))"
   ]
  },
  {
   "cell_type": "code",
   "execution_count": 138,
   "id": "f32eae81",
   "metadata": {},
   "outputs": [
    {
     "name": "stdout",
     "output_type": "stream",
     "text": [
      "[1 1 6 3 3 4 1 1 4 1 2 1 3 2 0 3 3 2 2 1 3 3 2 3 1 2 2 2 1 0 3 3 1 2 0 2 1\n",
      " 2 0 1 1 2 4 3 2 1 4 0 0 1 1 3 2 2 1 3 1 1 0 2 0 4 2 3 3 1 0 5 3 2 3 4 4 5\n",
      " 1 2 3 3 1 1 2 2 2 3 2 1 1 4 3 4 4 6 4 3 1 2 2 2 2 3 4 3 2 3 2 1 3 3 1 1 2\n",
      " 0 6 3 3 1 1 3 1 1 3 3 1 4 6 2 3 1 4 1 1 4 4 3 1 0 2 4 3 1 2 1 3 2 0 4 0 3\n",
      " 2 0 3 2 5 2 2 0 2 4 3 6 2 2 4 0 0 6 3 2 5 0 1 2 1 1 0 4 3 3 0 2 2 4 2 2 1\n",
      " 0 0 2 2 2 2 5 2 2 3 3 1 3 2 1 3 3 1 3 3 4 1 2 1 1 3 1 1 2 0 0 4 1 2 1 2 1\n",
      " 3 0 2 2 0 1 3 3 1 2 2 0 1 2 5 2 2 1 0 1 5 2 2 0 0 3 2 5 0 0 3 0 0 1 1 2 2\n",
      " 3 1 1 3 1 2 2 3 1 2 2 4 1 3 4 4 3 4 2 1 1 1 5 2 1 1 4 1 3 2 2 0 3 2 1 3 0\n",
      " 1 3 4 2 3 4 0 2 3 3 3 2 3 3 2 1 0 2 2 4 2 3 0 4 2 2 3 5 4 3 0 2 2 1 4 1 3\n",
      " 2 2 3 2 1 2 2 0 3 1 2 2 3 2 3 1 0 3 2 2 2 0 3 2 2 5 2 6 0 3 2 2 3 2 1 4 5\n",
      " 1 0 4 1 7 2 2 3 2 0 3 2 1 2 3 1 0 7 6 2 1 1 1 2 5 2 2 5 2 4 1 0 6 2 1 3 2\n",
      " 3 4 0 1 2 2 2 1 2 2 2 2 2 2 4 1 3 5 1 3 3 3 2 1 2 2 1 3 1 2 4 3 1 1 1 3 1\n",
      " 2 2 1 3 1 3 3 1 4 2 0 0 5 3 2 4 1 2 2 0 1 1 1 2 4 2 1 0 5 3 1 2 1 4 2 1 3\n",
      " 5 3 4 3 2 4 0 2 2 1 2 2 3 2 1 1 1 4 1]\n"
     ]
    }
   ],
   "source": [
    "print(y)"
   ]
  },
  {
   "cell_type": "markdown",
   "id": "0446405f",
   "metadata": {},
   "source": [
    "### Visualization of Poisson Distribution"
   ]
  },
  {
   "cell_type": "code",
   "execution_count": 139,
   "id": "eefc5210",
   "metadata": {},
   "outputs": [
    {
     "name": "stderr",
     "output_type": "stream",
     "text": [
      "C:\\anaconda\\lib\\site-packages\\seaborn\\distributions.py:2619: FutureWarning: `distplot` is a deprecated function and will be removed in a future version. Please adapt your code to use either `displot` (a figure-level function with similar flexibility) or `histplot` (an axes-level function for histograms).\n",
      "  warnings.warn(msg, FutureWarning)\n"
     ]
    },
    {
     "data": {
      "text/plain": [
       "<function matplotlib.pyplot.show(close=None, block=None)>"
      ]
     },
     "execution_count": 139,
     "metadata": {},
     "output_type": "execute_result"
    },
    {
     "data": {
      "image/png": "[encoded data removed]",
      "text/plain": [
       "<Figure size 432x288 with 1 Axes>"
      ]
     },
     "metadata": {
      "needs_background": "light"
     },
     "output_type": "display_data"
    }
   ],
   "source": [
    "sns.distplot(y, kde=False)\n",
    "\n",
    "plt.show"
   ]
  },
  {
   "cell_type": "markdown",
   "id": "5711b3ca",
   "metadata": {},
   "source": [
    "### Visualization of Gamma Distribution"
   ]
  },
  {
   "cell_type": "markdown",
   "id": "00b4d87d",
   "metadata": {},
   "source": [
    "## Uniform Distribution "
   ]
  },
  {
   "cell_type": "code",
   "execution_count": 140,
   "id": "e9d77e1c",
   "metadata": {},
   "outputs": [],
   "source": [
    "z=random.uniform(size=(100))"
   ]
  },
  {
   "cell_type": "code",
   "execution_count": 141,
   "id": "2971ece1",
   "metadata": {},
   "outputs": [
    {
     "name": "stdout",
     "output_type": "stream",
     "text": [
      "[0.83660335 0.95675961 0.40868713 0.41528746 0.19234167 0.75742028\n",
      " 0.25571325 0.99250847 0.84178781 0.15753547 0.93171525 0.7957987\n",
      " 0.48967245 0.53416197 0.43261191 0.50483555 0.3662272  0.12792211\n",
      " 0.65646342 0.86864849 0.85915146 0.06983601 0.36785768 0.45793036\n",
      " 0.08301235 0.0786198  0.89144576 0.20437983 0.79083878 0.10168998\n",
      " 0.33019616 0.01276855 0.37498251 0.32489044 0.28370643 0.98422744\n",
      " 0.95412334 0.32164813 0.21704145 0.11688169 0.47480831 0.09491406\n",
      " 0.26045131 0.28654267 0.23553348 0.12703892 0.47359871 0.82525339\n",
      " 0.18425769 0.90570183 0.2294172  0.34096809 0.15572302 0.0498389\n",
      " 0.36570115 0.27096273 0.3681989  0.73391332 0.75909532 0.97174955\n",
      " 0.20993184 0.60175415 0.44029128 0.36432908 0.94402349 0.59104319\n",
      " 0.36263345 0.59976615 0.33015248 0.43518933 0.27072033 0.23569231\n",
      " 0.41270098 0.6357744  0.33454895 0.98608216 0.91849042 0.1658077\n",
      " 0.68400706 0.14591241 0.27331143 0.99558433 0.79739724 0.34806753\n",
      " 0.6400901  0.25931391 0.35913307 0.21080346 0.65948931 0.72559362\n",
      " 0.98010929 0.74255389 0.35989468 0.07884136 0.01245587 0.67314579\n",
      " 0.1629674  0.03095727 0.47919928 0.67013385]\n"
     ]
    }
   ],
   "source": [
    "print(z)"
   ]
  },
  {
   "cell_type": "markdown",
   "id": "151d3e1a",
   "metadata": {},
   "source": [
    "### Visualization of Uniform Distribution"
   ]
  },
  {
   "cell_type": "code",
   "execution_count": 142,
   "id": "380e1572",
   "metadata": {},
   "outputs": [
    {
     "name": "stderr",
     "output_type": "stream",
     "text": [
      "C:\\anaconda\\lib\\site-packages\\seaborn\\distributions.py:2619: FutureWarning: `distplot` is a deprecated function and will be removed in a future version. Please adapt your code to use either `displot` (a figure-level function with similar flexibility) or `kdeplot` (an axes-level function for kernel density plots).\n",
      "  warnings.warn(msg, FutureWarning)\n"
     ]
    },
    {
     "data": {
      "image/png": "[encoded data removed]",
      "text/plain": [
       "<Figure size 432x288 with 1 Axes>"
      ]
     },
     "metadata": {
      "needs_background": "light"
     },
     "output_type": "display_data"
    }
   ],
   "source": [
    "sns.distplot(z,hist=False)\n",
    "\n",
    "plt.show()"
   ]
  },
  {
   "cell_type": "markdown",
   "id": "6d814c8b",
   "metadata": {},
   "source": [
    "## Gamma Distribution "
   ]
  },
  {
   "cell_type": "code",
   "execution_count": 143,
   "id": "ecb20d32",
   "metadata": {},
   "outputs": [],
   "source": [
    "r=random.gamma(2, 3, 100)"
   ]
  },
  {
   "cell_type": "code",
   "execution_count": 144,
   "id": "344fee07",
   "metadata": {},
   "outputs": [
    {
     "data": {
      "text/plain": [
       "array([ 0.24746438,  4.31799987,  5.64442592,  6.29114742,  1.37633986,\n",
       "        7.1667558 ,  1.89267008,  3.25922094,  1.05327724,  3.43112755,\n",
       "       14.74341223,  4.73660777,  2.973552  ,  8.0221081 ,  6.96629556,\n",
       "        3.10154192,  4.04966432,  7.15932452,  6.07902499,  3.17926416,\n",
       "        3.03570751,  1.48086518,  2.23765862,  1.59100825,  3.82975982,\n",
       "        9.22196922, 12.63845553,  4.34486266,  4.94736359, 16.39713501,\n",
       "        4.94137157,  6.394111  ,  3.18550151, 12.34508136,  7.19900167,\n",
       "        5.77462449,  4.08300673,  3.9339263 ,  6.54908888,  3.04950331,\n",
       "       10.09776724,  6.27419999,  1.7795014 ,  4.3045364 ,  8.130814  ,\n",
       "        2.99915003,  5.10379754, 16.16420875,  3.28128641,  3.30553864,\n",
       "       15.30257244, 16.8878793 ,  3.0512227 ,  6.16920281,  6.67665911,\n",
       "        3.3469493 ,  8.35251308,  2.65583563,  6.72236086, 22.01017256,\n",
       "        5.32723323, 11.41586123, 10.64622062,  4.73839997,  7.69007425,\n",
       "        2.53207936,  1.75330149,  3.52425664,  4.26375367,  0.8546333 ,\n",
       "        1.62156767,  4.07286086,  0.8560322 ,  3.72197322, 11.15477149,\n",
       "        5.78269136, 12.81380589,  4.88769169,  1.92400141,  6.45538882,\n",
       "        2.90083117,  6.89669025,  7.97322742,  7.96980027,  9.42159354,\n",
       "       13.06001129,  7.17899229,  1.90099336,  4.85502066,  0.65130902,\n",
       "        2.62914371,  3.12809502,  3.7409913 ,  5.4606305 ,  6.05454108,\n",
       "        3.64151789, 17.85691041,  6.10183427,  5.19554502,  0.97613066])"
      ]
     },
     "execution_count": 144,
     "metadata": {},
     "output_type": "execute_result"
    }
   ],
   "source": [
    "r"
   ]
  },
  {
   "cell_type": "code",
   "execution_count": 145,
   "id": "5857d718",
   "metadata": {},
   "outputs": [
    {
     "name": "stderr",
     "output_type": "stream",
     "text": [
      "C:\\anaconda\\lib\\site-packages\\seaborn\\distributions.py:2619: FutureWarning: `distplot` is a deprecated function and will be removed in a future version. Please adapt your code to use either `displot` (a figure-level function with similar flexibility) or `kdeplot` (an axes-level function for kernel density plots).\n",
      "  warnings.warn(msg, FutureWarning)\n"
     ]
    },
    {
     "data": {
      "image/png": "[encoded data removed]",
      "text/plain": [
       "<Figure size 432x288 with 1 Axes>"
      ]
     },
     "metadata": {
      "needs_background": "light"
     },
     "output_type": "display_data"
    }
   ],
   "source": [
    "sns.distplot(r, hist=False)\n",
    "\n",
    "plt.show()"
   ]
  }
 ],
 "metadata": {
  "kernelspec": {
   "display_name": "Python 3 (ipykernel)",
   "language": "python",
   "name": "python3"
  },
  "language_info": {
   "codemirror_mode": {
    "name": "ipython",
    "version": 3
   },
   "file_extension": ".py",
   "mimetype": "text/x-python",
   "name": "python",
   "nbconvert_exporter": "python",
   "pygments_lexer": "ipython3",
   "version": "3.9.12"
  }
 },
 "nbformat": 4,
 "nbformat_minor": 5
}
